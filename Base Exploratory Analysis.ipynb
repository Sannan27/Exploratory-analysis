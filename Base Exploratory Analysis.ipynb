{
 "cells": [
  {
   "cell_type": "code",
   "execution_count": 1,
   "id": "84d2be8b-f7c1-4c93-9c77-35b79e7f01f8",
   "metadata": {},
   "outputs": [],
   "source": [
    "import pandas as pd\n",
    "import numpy as np\n",
    "import matplotlib.pyplot as plt\n",
    "from datetime import datetime\n"
   ]
  },
  {
   "cell_type": "code",
   "execution_count": 2,
   "id": "c75992bd-8d25-4f9b-b91a-3862268ed6ea",
   "metadata": {},
   "outputs": [],
   "source": [
    "dataset = pd.read_excel(r'd:\\Jazz\\2024\\Python\\Number 1\\Aug - Dec Dataset.xlsx')"
   ]
  },
  {
   "cell_type": "code",
   "execution_count": 63,
   "id": "f0ce2bcb-dc93-406f-9fc1-246d7e59653e",
   "metadata": {},
   "outputs": [
    {
     "name": "stdout",
     "output_type": "stream",
     "text": [
     
     ]
    }
   ],
   "source": [
    "#1 - What is the MoM trend of Recharge, Revenue, Data Traffic, On-net Voice Traffic, Off-net Voice Traffic, Subscribers\n",
    "\n",
    "dataset['Date'] = pd.to_datetime(dataset['Date'])\n",
    "dataset['Month'] = dataset['Date'].dt.month\n",
    "dataset1 = dataset[['Month','City','Recharge_Amount','Total_Jazz_Revenue','Data_Traffic','Onnet_MOUs','Offnet_MOUs','Subscribers']]\n",
    "dataset1 = (dataset.groupby('Month')[['Recharge_Amount','Total_Jazz_Revenue','Data_Traffic','Onnet_MOUs','Offnet_MOUs','Subscribers']].sum()/1000000).reset_index()\n",
    "dataset1['Data_Traffic'] = dataset1['Data_Traffic']*1000000*(1/1024**2)*(1/30)\n",
    "dataset1['Subscribers'] = dataset1['Subscribers']*(1/30)\n",
    "dataset1 = dataset1.rename(columns={'Subscribers':'Daily_Avg_Subscribers','Data_Traffic':'Data_Traffic_TBs_Daily'})\n",
    "print(dataset1)"
   ]
  },
  {
   "cell_type": "code",
   "execution_count": 4,
   "id": "eb71f032-4d97-45ad-a5fb-4f6e9b5af290",
   "metadata": {},
   "outputs": [
    {
     "name": "stdout",
     "output_type": "stream",
     "text": [
      
    }
   ],
   "source": [
    "#1.1 What is the Percentage change in each KPI MoM\n",
    "\n",
    "PCT_Change = dataset1[['Total_Jazz_Revenue','Recharge_Amount','Data_Traffic_TBs_Daily','Onnet_MOUs','Offnet_MOUs','Daily_Avg_Subscribers']].pct_change()*100\n",
    "print(PCT_Change)"
   ]
  },
  {
   "cell_type": "code",
   "execution_count": 5,
   "id": "25974c69-679e-4521-9dbb-292c44894062",
   "metadata": {},
   "outputs": [
    {
     "name": "stdout",
     "output_type": "stream",
     "text": [
      "702\n"
     ]
    }
   ],
   "source": [
    "#2 - How many Cities does the dataset comprise of \n",
    "Cities = dataset['City'].drop_duplicates().count()\n",
    "print(Cities)"
   ]
  },
  {
   "cell_type": "code",
   "execution_count": 51,
   "id": "692a0110-afcf-4dc1-a358-2d696dffb741",
   "metadata": {},
   "outputs": [
    {
     "name": "stdout",
     "output_type": "stream",
     "text": [
     
    }
   ],
   "source": [
    "#3 What are the Top cities comprising 80% of Revenue and Subscribers\n",
    "\n",
    "dataset2 = pd.DataFrame(dataset[['City','Total_Jazz_Revenue']])\n",
    "dataset2 = dataset2.groupby('City')['Total_Jazz_Revenue'].sum()\n",
    "dataset2 = dataset2.reset_index()\n",
    "dataset2['Total_Jazz_Revenue'] = dataset2['Total_Jazz_Revenue'].sort_values()\n",
    "dataset2['cumulative_sum'] = dataset2['Total_Jazz_Revenue'].cumsum()\n",
    "dataset2['sum_pct'] = dataset2['cumulative_sum']/(dataset2['Total_Jazz_Revenue'].sum())\n",
    "dataset2['pct_cumsum'] = dataset2['sum_pct'].cumsum()\n",
    "print(dataset2[dataset2['pct_cumsum'] <= 0.8])\n",
    "#One index + one column = series / one index + multiple columns = dataframe"
   ]
  },
  {
   "cell_type": "code",
   "execution_count": 65,
   "id": "f814ae84-f7ae-47e3-8208-25a28d655ef5",
   "metadata": {},
   "outputs": [
    {
     "name": "stdout",
     "output_type": "stream",
     "text": [
      
    },
    {
     "name": "stderr",
     "output_type": "stream",
     "text": [
      "C:\\Users\\muhammad.sannan\\AppData\\Local\\Temp\\ipykernel_21536\\4263218222.py:5: SettingWithCopyWarning: \n",
      "A value is trying to be set on a copy of a slice from a DataFrame.\n",
      "Try using .loc[row_indexer,col_indexer] = value instead\n",
      "\n",
      "See the caveats in the documentation: https://pandas.pydata.org/pandas-docs/stable/user_guide/indexing.html#returning-a-view-versus-a-copy\n",
      "  dataset3['Onnet_MOUs'] = dataset3['Onnet_MOUs']*(1/30)\n",
      "C:\\Users\\muhammad.sannan\\AppData\\Local\\Temp\\ipykernel_21536\\4263218222.py:6: SettingWithCopyWarning: \n",
      "A value is trying to be set on a copy of a slice from a DataFrame.\n",
      "Try using .loc[row_indexer,col_indexer] = value instead\n",
      "\n",
      "See the caveats in the documentation: https://pandas.pydata.org/pandas-docs/stable/user_guide/indexing.html#returning-a-view-versus-a-copy\n",
      "  dataset3['Offnet_MOUs'] = dataset3['Offnet_MOUs']*(1/30)\n"
     ]
    }
   ],
   "source": [
    "#5 Cross Visualization of MOUs/Sub with MBs/Sub\n",
    "\n",
    "dataset3 = dataset1[['Month','Daily_Avg_Subscribers','Data_Traffic_TBs_Daily','Onnet_MOUs','Offnet_MOUs']]\n",
    "dataset3['Onnet_MOUs'] = dataset3['Onnet_MOUs']*(1/30)\n",
    "dataset3['Offnet_MOUs'] = dataset3['Offnet_MOUs']*(1/30)\n",
    "dataset3 = dataset3.rename(columns={'Onnet_MOUs':'Daily_Avg_Onnet_MOUs','Offnet_MOUs':'Daily_Avg_Offnet_MOUs'})\n",
    "dataset3['Onnet_Per_Sub'] = dataset3['Daily_Avg_Onnet_MOUs']/dataset3['Daily_Avg_Subscribers']\n",
    "dataset3['Offnet_Per_Sub'] = dataset3['Daily_Avg_Offnet_MOUs']/dataset3['Daily_Avg_Subscribers']\n",
    "dataset3['Data_Per_Sub'] = (dataset3['Data_Traffic_TBs_Daily']*(1024**2))/dataset3['Daily_Avg_Subscribers']\n",
    "print(dataset3.head())"
   ]
  },
  {
   "cell_type": "code",
   "execution_count": null,
   "id": "7cdd371b-4d02-4161-ba72-06307882a2b5",
   "metadata": {},
   "outputs": [],
   "source": []
  },
  {
   "cell_type": "code",
   "execution_count": null,
   "id": "fdad551a-0f4f-48c7-97e6-961c6fee161d",
   "metadata": {},
   "outputs": [],
   "source": []
  }
 ],
 "metadata": {
  "kernelspec": {
   "display_name": "Python 3 (ipykernel)",
   "language": "python",
   "name": "python3"
  },
  "language_info": {
   "codemirror_mode": {
    "name": "ipython",
    "version": 3
   },
   "file_extension": ".py",
   "mimetype": "text/x-python",
   "name": "python",
   "nbconvert_exporter": "python",
   "pygments_lexer": "ipython3",
   "version": "3.12.4"
  }
 },
 "nbformat": 4,
 "nbformat_minor": 5
}
