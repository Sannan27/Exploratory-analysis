{
 "cells": [
  {
   "cell_type": "code",
   "execution_count": 1,
   "id": "84d2be8b-f7c1-4c93-9c77-35b79e7f01f8",
   "metadata": {},
   "outputs": [],
   "source": [
    "import pandas as pd\n",
    "import numpy as np\n",
    "import matplotlib.pyplot as plt\n",
    "from datetime import datetime\n"
   ]
  },
  {
   "cell_type": "code",
   "execution_count": 2,
   "id": "c75992bd-8d25-4f9b-b91a-3862268ed6ea",
   "metadata": {},
   "outputs": [],
   "source": [
    "dataset = pd.read_excel(r'd:\\Jazz\\2024\\Python\\Number 1\\Aug - Dec Dataset.xlsx')"
   ]
  },
  {
   "cell_type": "code",
   "execution_count": 63,
   "id": "f0ce2bcb-dc93-406f-9fc1-246d7e59653e",
   "metadata": {},
   "outputs": [
    {
     "name": "stdout",
     "output_type": "stream",
     "text": [
      "   Month  Recharge_Amount  Total_Jazz_Revenue  Data_Traffic_TBs_Daily  \\\n",
      "0      8     21910.762663        15668.961360            10614.241246   \n",
      "1      9     21713.009593        15544.346690            10388.280578   \n",
      "2     10     22548.926230        16112.473149            10938.777772   \n",
      "3     11     21762.141314        15804.030395            10553.107068   \n",
      "4     12     22754.350122        16348.348108            11089.322782   \n",
      "\n",
      "     Onnet_MOUs  Offnet_MOUs  Daily_Avg_Subscribers  \n",
      "0  15702.569841  1610.037669              32.257955  \n",
      "1  15251.109172  1552.884196              31.019879  \n",
      "2  16060.655839  1647.004623              32.506596  \n",
      "3  15398.447001  1596.918541              31.088709  \n",
      "4  15708.607653  1663.560965              32.791511  \n"
     ]
    }
   ],
   "source": [
    "#1 - What is the MoM trend of Recharge, Revenue, Data Traffic, On-net Voice Traffic, Off-net Voice Traffic, Subscribers\n",
    "\n",
    "dataset['Date'] = pd.to_datetime(dataset['Date'])\n",
    "dataset['Month'] = dataset['Date'].dt.month\n",
    "dataset1 = dataset[['Month','City','Recharge_Amount','Total_Jazz_Revenue','Data_Traffic','Onnet_MOUs','Offnet_MOUs','Subscribers']]\n",
    "dataset1 = (dataset.groupby('Month')[['Recharge_Amount','Total_Jazz_Revenue','Data_Traffic','Onnet_MOUs','Offnet_MOUs','Subscribers']].sum()/1000000).reset_index()\n",
    "dataset1['Data_Traffic'] = dataset1['Data_Traffic']*1000000*(1/1024**2)*(1/30)\n",
    "dataset1['Subscribers'] = dataset1['Subscribers']*(1/30)\n",
    "dataset1 = dataset1.rename(columns={'Subscribers':'Daily_Avg_Subscribers','Data_Traffic':'Data_Traffic_TBs_Daily'})\n",
    "print(dataset1)"
   ]
  },
  {
   "cell_type": "code",
   "execution_count": 4,
   "id": "eb71f032-4d97-45ad-a5fb-4f6e9b5af290",
   "metadata": {},
   "outputs": [
    {
     "name": "stdout",
     "output_type": "stream",
     "text": [
      "       Total_Jazz_Revenue  Recharge_Amount  Data_Traffic_TBs_Daily  \\\n",
      "Month                                                                \n",
      "8                     NaN              NaN                     NaN   \n",
      "9               -0.795296        -0.902539               -2.128844   \n",
      "10               3.654875         3.849842                5.299214   \n",
      "11              -1.914310        -3.489235               -3.525720   \n",
      "12               3.444170         4.559334                5.081117   \n",
      "\n",
      "       Onnet_MOUs  Offnet_MOUs  Daily_Avg_Subscribers  \n",
      "Month                                                  \n",
      "8             NaN          NaN                    NaN  \n",
      "9       -2.875075    -3.549822              -3.838049  \n",
      "10       5.308117     6.061007               4.792789  \n",
      "11      -4.123174    -3.041041              -4.361844  \n",
      "12       2.014233     4.173189               5.477236  \n"
     ]
    }
   ],
   "source": [
    "#1.1 What is the Percentage change in each KPI MoM\n",
    "\n",
    "PCT_Change = dataset1[['Total_Jazz_Revenue','Recharge_Amount','Data_Traffic_TBs_Daily','Onnet_MOUs','Offnet_MOUs','Daily_Avg_Subscribers']].pct_change()*100\n",
    "print(PCT_Change)"
   ]
  },
  {
   "cell_type": "code",
   "execution_count": 5,
   "id": "25974c69-679e-4521-9dbb-292c44894062",
   "metadata": {},
   "outputs": [
    {
     "name": "stdout",
     "output_type": "stream",
     "text": [
      "702\n"
     ]
    }
   ],
   "source": [
    "#2 - How many Cities does the dataset comprise of \n",
    "Cities = dataset['City'].drop_duplicates().count()\n",
    "print(Cities)"
   ]
  },
  {
   "cell_type": "code",
   "execution_count": 51,
   "id": "692a0110-afcf-4dc1-a358-2d696dffb741",
   "metadata": {},
   "outputs": [
    {
     "name": "stdout",
     "output_type": "stream",
     "text": [
      "                   City  Total_Jazz_Revenue  cumulative_sum   sum_pct  \\\n",
      "0                     0        9.709284e+06    9.709284e+06  0.000122   \n",
      "1            Abbottabad        1.468518e+08    1.565611e+08  0.001970   \n",
      "2      Abbottabad_Rural        9.233303e+07    2.488941e+08  0.003132   \n",
      "3         Ahmadpur East        3.794812e+07    2.868423e+08  0.003609   \n",
      "4   Ahmadpur East_Rural        2.229053e+08    5.097476e+08  0.006414   \n",
      "5         Ahmedpur East        6.441883e+07    5.741664e+08  0.007224   \n",
      "6         Akora Khattak        1.097959e+07    5.851460e+08  0.007362   \n",
      "7   Akora Khattak_Rural        9.519139e+07    6.803374e+08  0.008560   \n",
      "8                Alipur        8.441927e+07    7.647566e+08  0.009622   \n",
      "9         Alipur Chatha        5.128897e+07    8.160456e+08  0.010268   \n",
      "10  Alipur Chatha_Rural        7.347171e+07    8.895173e+08  0.011192   \n",
      "11         Alipur_Rural        1.490958e+08    1.038613e+09  0.013068   \n",
      "12            AllahAbad        6.525095e+07    1.103864e+09  0.013889   \n",
      "13      AllahAbad_Rural        1.688331e+08    1.272697e+09  0.016013   \n",
      "14             Arifwala        1.354465e+08    1.408144e+09  0.017717   \n",
      "15       Arifwala_Rural        1.771489e+08    1.585293e+09  0.019946   \n",
      "16               Attock        1.027074e+08    1.688000e+09  0.021239   \n",
      "17         Attock_Rural        5.989497e+07    1.747895e+09  0.021992   \n",
      "18                Badah        1.325812e+07    1.761153e+09  0.022159   \n",
      "19          Badah_Rural        6.589137e+06    1.767742e+09  0.022242   \n",
      "20                Badin        2.215423e+07    1.789896e+09  0.022521   \n",
      "21          Badin_Rural        1.444964e+07    1.804346e+09  0.022702   \n",
      "22             Bagh_AJK        1.144653e+07    1.815793e+09  0.022846   \n",
      "23       Bagh_AJK_Rural        3.691292e+07    1.852706e+09  0.023311   \n",
      "24         Bahawalnagar        1.550737e+08    2.007779e+09  0.025262   \n",
      "25   Bahawalnagar_Rural        1.213504e+08    2.129130e+09  0.026789   \n",
      "26           Bahawalpur        5.461412e+08    2.675271e+09  0.033660   \n",
      "27     Bahawalpur_Rural        2.369888e+08    2.912260e+09  0.036642   \n",
      "28              Balakot        7.667694e+06    2.919927e+09  0.036739   \n",
      "29        Balakot_Rural        2.993185e+07    2.949859e+09  0.037115   \n",
      "30                Bannu        3.831007e+07    2.988169e+09  0.037597   \n",
      "31          Bannu_Rural        5.790676e+07    3.046076e+09  0.038326   \n",
      "32        Barawal Bandi        2.327365e+07    3.069350e+09  0.038619   \n",
      "33  Barawal Bandi_Rural        2.247895e+07    3.091829e+09  0.038902   \n",
      "34              Barnala        1.354295e+07    3.105372e+09  0.039072   \n",
      "35        Barnala_Rural        1.441704e+07    3.119789e+09  0.039253   \n",
      "36             Basirpur        2.317033e+07    3.142959e+09  0.039545   \n",
      "\n",
      "    pct_cumsum  \n",
      "0     0.000122  \n",
      "1     0.002092  \n",
      "2     0.005224  \n",
      "3     0.008833  \n",
      "4     0.015246  \n",
      "5     0.022471  \n",
      "6     0.029833  \n",
      "7     0.038393  \n",
      "8     0.048015  \n",
      "9     0.058283  \n",
      "10    0.069475  \n",
      "11    0.082543  \n",
      "12    0.096432  \n",
      "13    0.112445  \n",
      "14    0.130162  \n",
      "15    0.150108  \n",
      "16    0.171347  \n",
      "17    0.193339  \n",
      "18    0.215498  \n",
      "19    0.237740  \n",
      "20    0.260260  \n",
      "21    0.282963  \n",
      "22    0.305809  \n",
      "23    0.329120  \n",
      "24    0.354382  \n",
      "25    0.381171  \n",
      "26    0.414832  \n",
      "27    0.451474  \n",
      "28    0.488213  \n",
      "29    0.525328  \n",
      "30    0.562925  \n",
      "31    0.601251  \n",
      "32    0.639870  \n",
      "33    0.678772  \n",
      "34    0.717844  \n",
      "35    0.757097  \n",
      "36    0.796642  \n"
     ]
    }
   ],
   "source": [
    "#3 What are the Top cities comprising 80% of Revenue and Subscribers\n",
    "\n",
    "dataset2 = pd.DataFrame(dataset[['City','Total_Jazz_Revenue']])\n",
    "dataset2 = dataset2.groupby('City')['Total_Jazz_Revenue'].sum()\n",
    "dataset2 = dataset2.reset_index()\n",
    "dataset2['Total_Jazz_Revenue'] = dataset2['Total_Jazz_Revenue'].sort_values()\n",
    "dataset2['cumulative_sum'] = dataset2['Total_Jazz_Revenue'].cumsum()\n",
    "dataset2['sum_pct'] = dataset2['cumulative_sum']/(dataset2['Total_Jazz_Revenue'].sum())\n",
    "dataset2['pct_cumsum'] = dataset2['sum_pct'].cumsum()\n",
    "print(dataset2[dataset2['pct_cumsum'] <= 0.8])\n",
    "#One index + one column = series / one index + multiple columns = dataframe"
   ]
  },
  {
   "cell_type": "code",
   "execution_count": 65,
   "id": "f814ae84-f7ae-47e3-8208-25a28d655ef5",
   "metadata": {},
   "outputs": [
    {
     "name": "stdout",
     "output_type": "stream",
     "text": [
      "   Month  Daily_Avg_Subscribers  Data_Traffic_TBs_Daily  Daily_Avg_Onnet_MOUs  \\\n",
      "0      8              32.257955            10614.241246            523.418995   \n",
      "1      9              31.019879            10388.280578            508.370306   \n",
      "2     10              32.506596            10938.777772            535.355195   \n",
      "3     11              31.088709            10553.107068            513.281567   \n",
      "4     12              32.791511            11089.322782            523.620255   \n",
      "\n",
      "   Daily_Avg_Offnet_MOUs  Onnet_Per_Sub  Offnet_Per_Sub  Data_Per_Sub  \n",
      "0              53.667922      16.226044        1.663711  3.450262e+08  \n",
      "1              51.762807      16.388533        1.668698  3.511587e+08  \n",
      "2              54.900154      16.469125        1.688893  3.528558e+08  \n",
      "3              53.230618      16.510225        1.712217  3.559406e+08  \n",
      "4              55.452032      15.968165        1.691048  3.546039e+08  \n"
     ]
    },
    {
     "name": "stderr",
     "output_type": "stream",
     "text": [
      "C:\\Users\\muhammad.sannan\\AppData\\Local\\Temp\\ipykernel_21536\\4263218222.py:5: SettingWithCopyWarning: \n",
      "A value is trying to be set on a copy of a slice from a DataFrame.\n",
      "Try using .loc[row_indexer,col_indexer] = value instead\n",
      "\n",
      "See the caveats in the documentation: https://pandas.pydata.org/pandas-docs/stable/user_guide/indexing.html#returning-a-view-versus-a-copy\n",
      "  dataset3['Onnet_MOUs'] = dataset3['Onnet_MOUs']*(1/30)\n",
      "C:\\Users\\muhammad.sannan\\AppData\\Local\\Temp\\ipykernel_21536\\4263218222.py:6: SettingWithCopyWarning: \n",
      "A value is trying to be set on a copy of a slice from a DataFrame.\n",
      "Try using .loc[row_indexer,col_indexer] = value instead\n",
      "\n",
      "See the caveats in the documentation: https://pandas.pydata.org/pandas-docs/stable/user_guide/indexing.html#returning-a-view-versus-a-copy\n",
      "  dataset3['Offnet_MOUs'] = dataset3['Offnet_MOUs']*(1/30)\n"
     ]
    }
   ],
   "source": [
    "#5 Cross Visualization of MOUs/Sub with MBs/Sub\n",
    "\n",
    "dataset3 = dataset1[['Month','Daily_Avg_Subscribers','Data_Traffic_TBs_Daily','Onnet_MOUs','Offnet_MOUs']]\n",
    "dataset3['Onnet_MOUs'] = dataset3['Onnet_MOUs']*(1/30)\n",
    "dataset3['Offnet_MOUs'] = dataset3['Offnet_MOUs']*(1/30)\n",
    "dataset3 = dataset3.rename(columns={'Onnet_MOUs':'Daily_Avg_Onnet_MOUs','Offnet_MOUs':'Daily_Avg_Offnet_MOUs'})\n",
    "dataset3['Onnet_Per_Sub'] = dataset3['Daily_Avg_Onnet_MOUs']/dataset3['Daily_Avg_Subscribers']\n",
    "dataset3['Offnet_Per_Sub'] = dataset3['Daily_Avg_Offnet_MOUs']/dataset3['Daily_Avg_Subscribers']\n",
    "dataset3['Data_Per_Sub'] = (dataset3['Data_Traffic_TBs_Daily']*(1024**2))/dataset3['Daily_Avg_Subscribers']\n",
    "print(dataset3.head())"
   ]
  },
  {
   "cell_type": "code",
   "execution_count": null,
   "id": "7cdd371b-4d02-4161-ba72-06307882a2b5",
   "metadata": {},
   "outputs": [],
   "source": []
  },
  {
   "cell_type": "code",
   "execution_count": null,
   "id": "fdad551a-0f4f-48c7-97e6-961c6fee161d",
   "metadata": {},
   "outputs": [],
   "source": []
  }
 ],
 "metadata": {
  "kernelspec": {
   "display_name": "Python 3 (ipykernel)",
   "language": "python",
   "name": "python3"
  },
  "language_info": {
   "codemirror_mode": {
    "name": "ipython",
    "version": 3
   },
   "file_extension": ".py",
   "mimetype": "text/x-python",
   "name": "python",
   "nbconvert_exporter": "python",
   "pygments_lexer": "ipython3",
   "version": "3.12.4"
  }
 },
 "nbformat": 4,
 "nbformat_minor": 5
}
